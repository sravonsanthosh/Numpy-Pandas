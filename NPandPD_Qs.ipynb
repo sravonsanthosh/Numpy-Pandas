{
 "cells": [
  {
   "cell_type": "markdown",
   "id": "f2ac7975-3723-4b32-9eef-7520f042a1b7",
   "metadata": {},
   "source": [
    "*NumPy*\n",
    "------\n",
    "NumPy is the core library for scientific computing in Python. It provides a\n",
    "highperformance multidimensional array object, and tools for working with these\n",
    "arrays. It’s a successor of Numeric package. In 2005, Travis Oliphant created NumPy\n",
    "by incorporating features of the competing Numarray into Numeric, with extensive\n",
    "modifications. I think the concepts and the code examples to a great extent have\n",
    "been explained in the simplest form in his book Guide to NumPy. Here we’ll only be\n",
    "looking at some of the key NumPy concepts that are a must or good to know in\n",
    "relevance to machine learning.\n"
   ]
  },
  {
   "cell_type": "markdown",
   "id": "d0eb3879-74f4-49d6-b54a-7cc1d5c3f2ab",
   "metadata": {},
   "source": [
    "*Array*\n",
    "------\n",
    "A NumPy array is a collection of similar data type values, and is indexed by a tuple of\n",
    "nonnegative numbers. The rank of the array is the number of dimensions, and the\n",
    "shape of an array is a tuple of numbers giving the size of the array along each\n",
    "dimension. We can initialize NumPy arrays from nested Python lists, and access\n",
    "elements using square brackets. See Listing 2-1."
   ]
  },
  {
   "cell_type": "markdown",
   "id": "3fc7bd1d-f75e-4d75-aac6-3518921a9c87",
   "metadata": {},
   "source": [
    "Listing 2-1 .Example code for initializing NumPy array"
   ]
  },
  {
   "cell_type": "code",
   "execution_count": 2,
   "id": "897fe08e-3444-4126-8c53-41159cd3fa22",
   "metadata": {},
   "outputs": [
    {
     "name": "stdout",
     "output_type": "stream",
     "text": [
      "<class 'numpy.ndarray'>\n",
      "(3,)\n",
      "0\n",
      "1\n",
      "2\n",
      "[5 1 2]\n"
     ]
    }
   ],
   "source": [
    "import numpy as np\n",
    "#Create a rank 1 array \n",
    "a=np.array([0,1,2])\n",
    "print(type(a))\n",
    "#this will print the dimension of the array\n",
    "print(a.shape)\n",
    "print(a[0])\n",
    "print(a[1])\n",
    "print(a[2])\n",
    "#Change a n element of the array\n",
    "a[0]=5\n",
    "print(a)"
   ]
  },
  {
   "cell_type": "code",
   "execution_count": 3,
   "id": "b2a9b691-fc3c-4b88-b4fd-7ba39ac9dff4",
   "metadata": {},
   "outputs": [
    {
     "name": "stdout",
     "output_type": "stream",
     "text": [
      "(2, 3)\n",
      "[[0 1 2]\n",
      " [3 4 5]]\n",
      "0 1 3\n"
     ]
    }
   ],
   "source": [
    "#Create a rank 2 array \n",
    "b=np.array([[0,1,2],[3,4,5]])\n",
    "print(b.shape)\n",
    "print(b)\n",
    "print(b[0,0],b[0,1],b[1,0])"
   ]
  },
  {
   "cell_type": "markdown",
   "id": "2a90f4b9-0525-4e20-8ec0-adc6017dc7bd",
   "metadata": {},
   "source": [
    "*Creating Numpy Array*\n",
    "---\n",
    "NumPy also provides many built-in functions to create arrays. The best way to learn\n",
    "this is through examples, so let’s jump into the code. See Listing 2-2.\n"
   ]
  },
  {
   "cell_type": "markdown",
   "id": "dd72f552-22af-462d-91ad-34117198fa41",
   "metadata": {},
   "source": [
    "Listing 2-2. Creating Numpy array"
   ]
  },
  {
   "cell_type": "code",
   "execution_count": 4,
   "id": "ae7be4c6-5d34-4a42-bc07-f38d4978b5b0",
   "metadata": {},
   "outputs": [
    {
     "data": {
      "text/plain": [
       "array([[0., 0., 0.],\n",
       "       [0., 0., 0.],\n",
       "       [0., 0., 0.]])"
      ]
     },
     "execution_count": 4,
     "metadata": {},
     "output_type": "execute_result"
    }
   ],
   "source": [
    "#Create a 3x3 array of all zeros \n",
    "a=np.zeros((3,3))\n",
    "a"
   ]
  },
  {
   "cell_type": "code",
   "execution_count": 5,
   "id": "cb0a7503-f4cd-4516-86a1-8f4fa8da0293",
   "metadata": {},
   "outputs": [
    {
     "data": {
      "text/plain": [
       "array([[1., 1.],\n",
       "       [1., 1.]])"
      ]
     },
     "execution_count": 5,
     "metadata": {},
     "output_type": "execute_result"
    }
   ],
   "source": [
    "#Create a 2x2 array of all ones\n",
    "b=np.ones((2,2))\n",
    "b"
   ]
  },
  {
   "cell_type": "code",
   "execution_count": 6,
   "id": "501b036c-3777-4cb5-8a20-fadf3c2b9f5e",
   "metadata": {},
   "outputs": [
    {
     "data": {
      "text/plain": [
       "array([[7, 7, 7],\n",
       "       [7, 7, 7],\n",
       "       [7, 7, 7]])"
      ]
     },
     "execution_count": 6,
     "metadata": {},
     "output_type": "execute_result"
    }
   ],
   "source": [
    "#Create a 3x3 constant array\n",
    "c=np.full((3,3),7)\n",
    "c"
   ]
  },
  {
   "cell_type": "code",
   "execution_count": 7,
   "id": "d21e8e0b-864e-4ac5-b7f2-2958096cb3fb",
   "metadata": {},
   "outputs": [
    {
     "data": {
      "text/plain": [
       "array([[0.85707835, 0.3311221 , 0.91656539],\n",
       "       [0.27160943, 0.83937717, 0.49007609],\n",
       "       [0.68218043, 0.9286024 , 0.68556794]])"
      ]
     },
     "execution_count": 7,
     "metadata": {},
     "output_type": "execute_result"
    }
   ],
   "source": [
    "#Create a 3x3 array filled with random values\n",
    "d=np.random.random((3,3))\n",
    "d"
   ]
  },
  {
   "cell_type": "code",
   "execution_count": 8,
   "id": "201cf8a1-2877-4e39-8c78-0c9871992cf1",
   "metadata": {},
   "outputs": [
    {
     "data": {
      "text/plain": [
       "array([[1., 0., 0.],\n",
       "       [0., 1., 0.],\n",
       "       [0., 0., 1.]])"
      ]
     },
     "execution_count": 8,
     "metadata": {},
     "output_type": "execute_result"
    }
   ],
   "source": [
    "#Create a 3x3 identity martrix\n",
    "e=np.eye(3)\n",
    "e"
   ]
  },
  {
   "cell_type": "code",
   "execution_count": 9,
   "id": "50ad906d-5f21-4beb-96d5-ce97b9373d3f",
   "metadata": {},
   "outputs": [
    {
     "data": {
      "text/plain": [
       "array([2, 3, 1, 0])"
      ]
     },
     "execution_count": 9,
     "metadata": {},
     "output_type": "execute_result"
    }
   ],
   "source": [
    "#Convert list to array\n",
    "f=np.array([2,3,1,0])\n",
    "f"
   ]
  },
  {
   "cell_type": "code",
   "execution_count": 10,
   "id": "7ca8669f-550e-4e1a-bb7f-e939d53a95b0",
   "metadata": {},
   "outputs": [
    {
     "data": {
      "text/plain": [
       "array([ 0,  1,  2,  3,  4,  5,  6,  7,  8,  9, 10, 11, 12, 13, 14, 15, 16,\n",
       "       17, 18, 19])"
      ]
     },
     "execution_count": 10,
     "metadata": {},
     "output_type": "execute_result"
    }
   ],
   "source": [
    "#arange() will create arrays with regularly incrementing values\n",
    "g=np.arange(20)\n",
    "g"
   ]
  },
  {
   "cell_type": "code",
   "execution_count": 11,
   "id": "e71b13e1-f2ef-458d-81a9-6d78cfa96bec",
   "metadata": {},
   "outputs": [
    {
     "data": {
      "text/plain": [
       "array([[0.+0.j, 1.+0.j, 2.+0.j],\n",
       "       [0.+0.j, 0.+0.j, 0.+0.j],\n",
       "       [1.+1.j, 3.+0.j, 2.+0.j]])"
      ]
     },
     "execution_count": 11,
     "metadata": {},
     "output_type": "execute_result"
    }
   ],
   "source": [
    "#note mix of tuples and lists \n",
    "h=np.array([[0,1,2.0],[0,0,0],(1+1j,3.,2.)])\n",
    "h"
   ]
  },
  {
   "cell_type": "code",
   "execution_count": 12,
   "id": "28e1a8ca-80f2-4103-b956-9c3ea81f8b57",
   "metadata": {},
   "outputs": [
    {
     "data": {
      "text/plain": [
       "array([1., 2., 3., 4., 5., 6., 7.])"
      ]
     },
     "execution_count": 12,
     "metadata": {},
     "output_type": "execute_result"
    }
   ],
   "source": [
    "#CReate an array of range with float data type \n",
    "i=np.arange(1,8,dtype=float)\n",
    "i"
   ]
  },
  {
   "cell_type": "code",
   "execution_count": 13,
   "id": "210a881c-ea09-4b78-a622-b7c0bc55a819",
   "metadata": {},
   "outputs": [
    {
     "data": {
      "text/plain": [
       "array([2. , 2.5, 3. , 3.5, 4. ])"
      ]
     },
     "execution_count": 13,
     "metadata": {},
     "output_type": "execute_result"
    }
   ],
   "source": [
    "'''linspace() will create arrays with a specific num,ber of items whic are spaced \n",
    "equally between the specific beginning and end values'''\n",
    "j=np.linspace(2.,4.,5)\n",
    "j"
   ]
  },
  {
   "cell_type": "code",
   "execution_count": 14,
   "id": "44756936-8c01-4a15-8287-cd38aa39f1fe",
   "metadata": {},
   "outputs": [
    {
     "data": {
      "text/plain": [
       "array([[[0, 0],\n",
       "        [1, 1]],\n",
       "\n",
       "       [[0, 1],\n",
       "        [0, 1]]])"
      ]
     },
     "execution_count": 14,
     "metadata": {},
     "output_type": "execute_result"
    }
   ],
   "source": [
    "'''indices() will create a set odf arrays stacked as a one-higher dimensioned array,\n",
    "one per dimension with each representing variation in that dimension'''\n",
    "k=np.indices((2,2))\n",
    "k"
   ]
  },
  {
   "cell_type": "markdown",
   "id": "0c532ed6-4867-48cb-b994-5c6760a2d673",
   "metadata": {},
   "source": [
    "*Data Types*\n",
    "----\n",
    "An array is a collection of items of the same data type and NumPy supports and\n",
    "provides built-in functions to construct arrays with optional arguments to explicitly\n",
    "specify required datatypes.\n"
   ]
  },
  {
   "cell_type": "markdown",
   "id": "45865539-7af9-4dbf-80cc-8c01da5db828",
   "metadata": {},
   "source": [
    "Listing 2-3.Numpy datatypes"
   ]
  },
  {
   "cell_type": "code",
   "execution_count": 15,
   "id": "e5fb1a7c-188c-40f3-9b78-79759c04cf39",
   "metadata": {},
   "outputs": [
    {
     "name": "stdout",
     "output_type": "stream",
     "text": [
      "int64 float64 int64\n"
     ]
    }
   ],
   "source": [
    "#Let numpy choose the datatype\n",
    "x=np.array([0,1])\n",
    "y=np.array([2.0,3.0])\n",
    "#Force a particular datatype\n",
    "z=np.array([5,6],dtype=np.int64)\n",
    "print(x.dtype,y.dtype,z.dtype)"
   ]
  },
  {
   "cell_type": "markdown",
   "id": "9a487b60-f3af-42a8-b9ea-576252025807",
   "metadata": {},
   "source": [
    "*Array Indexing*\n",
    "---\n",
    "NumPy offers several ways to index into arrays. Standard Python x [obj] syntax can be used to index Numpy array, where x is the array and obj is the selection.There are these kind  of indexing available:-Field access \n",
    "                                  -Basic slicing\n",
    "                                  -Advanced indexing"
   ]
  },
  {
   "cell_type": "markdown",
   "id": "dbfa1544-1022-4cf1-8aa2-1b30dd75ebf4",
   "metadata": {},
   "source": [
    "Listing 2-4.Field access"
   ]
  },
  {
   "cell_type": "code",
   "execution_count": 16,
   "id": "7326b352-242a-40c4-a1a3-359d93fcdece",
   "metadata": {},
   "outputs": [
    {
     "name": "stdout",
     "output_type": "stream",
     "text": [
      "x['a'].shape:  (3, 3)\n",
      "x['a'].dtype:  int32\n",
      "x['b'].shape:  (3, 3, 3, 3)\n",
      "x['b'].dtype:  float64\n"
     ]
    }
   ],
   "source": [
    "x=np.zeros((3,3),dtype=[('a',np.int32),('b',np.float64,(3,3))])\n",
    "print(\"x['a'].shape: \", x['a'].shape)\n",
    "print(\"x['a'].dtype: \", x['a'].dtype)\n",
    "print(\"x['b'].shape: \", x['b'].shape)\n",
    "print(\"x['b'].dtype: \", x['b'].dtype)"
   ]
  },
  {
   "cell_type": "markdown",
   "id": "07b01568-0cfa-4502-890b-97d26b865b87",
   "metadata": {},
   "source": [
    "*Basic Slicing*\n",
    "NumPy arrays can be sliced, similar to lists. You must specify a slice for each\n",
    "dimension of the array as the arrays may be multidimensional. The basic slice syntax\n",
    "is i: j: k, where i is the starting index, j is the stopping index, and k is the step and k is\n",
    "not equal to 0. This selects the m elements in the corresponding dimension, with\n",
    "index values i, i + k, …,i + (m - 1) k where m = q + (r not equal to 0) and q and r are the\n",
    "quotient and the remainder is obtained by dividing j - i by k: j - i = q k + r, so that i +\n",
    "(m - 1) k < j. See Listing 2-5."
   ]
  },
  {
   "cell_type": "markdown",
   "id": "318e5e36-851a-4488-b9ce-f52af34b054a",
   "metadata": {},
   "source": [
    "Listing 2-5.Basic slicing"
   ]
  },
  {
   "cell_type": "code",
   "execution_count": 17,
   "id": "a442d096-7ffd-4240-a909-dd4f93e09c59",
   "metadata": {},
   "outputs": [
    {
     "data": {
      "text/plain": [
       "array([6, 8])"
      ]
     },
     "execution_count": 17,
     "metadata": {},
     "output_type": "execute_result"
    }
   ],
   "source": [
    "x=np.array([5,6,7,8,9])\n",
    "x[1:7:2]"
   ]
  },
  {
   "cell_type": "markdown",
   "id": "c152567b-8de4-4ddb-b008-a4d3c0849b94",
   "metadata": {},
   "source": [
    "Negative k makes stepping go toward smaller indices. Negative i and j are interpreted\n",
    "as n + i and n + j where n is the number of elements in the corresponding dimension."
   ]
  },
  {
   "cell_type": "code",
   "execution_count": 18,
   "id": "8d1607f5-0a6c-41c5-b83c-98327d4048dc",
   "metadata": {},
   "outputs": [
    {
     "name": "stdout",
     "output_type": "stream",
     "text": [
      "[8 9]\n",
      "[9 8 7]\n"
     ]
    }
   ],
   "source": [
    "print(x[-2:5])\n",
    "print(x[-1:1:-1])"
   ]
  },
  {
   "cell_type": "markdown",
   "id": "a8714e76-8490-41ea-b288-4b7328acd7a2",
   "metadata": {},
   "source": [
    "If n is the number of items in the dimension being sliced. Then if i is not given then it\n",
    "defaults to 0 for k > 0 and n - 1 for k < 0. If j is not given it defaults to n for k > 0 and\n",
    "-1 for k < 0. If k is not given it defaults to 1. Note that :: is the same as : and means\n",
    "select all indices along this axis."
   ]
  },
  {
   "cell_type": "code",
   "execution_count": 19,
   "id": "aef0cee4-f532-4388-be0b-25da357931c1",
   "metadata": {},
   "outputs": [
    {
     "data": {
      "text/plain": [
       "array([9])"
      ]
     },
     "execution_count": 19,
     "metadata": {},
     "output_type": "execute_result"
    }
   ],
   "source": [
    "x[4:]"
   ]
  },
  {
   "cell_type": "markdown",
   "id": "9ee0f0f8-922a-4709-8a7d-9514092a5ba6",
   "metadata": {},
   "source": [
    "If the number of objects in the selection tuple is less than N, then : is assumed for\n",
    "any subsequent dimensions."
   ]
  },
  {
   "cell_type": "code",
   "execution_count": 20,
   "id": "ae284d0c-4690-4805-87c6-ed58530cb5e4",
   "metadata": {},
   "outputs": [
    {
     "name": "stdout",
     "output_type": "stream",
     "text": [
      "Shape of y:  (2, 3, 1)\n"
     ]
    },
    {
     "data": {
      "text/plain": [
       "array([[[4],\n",
       "        [5],\n",
       "        [6]]])"
      ]
     },
     "execution_count": 20,
     "metadata": {},
     "output_type": "execute_result"
    }
   ],
   "source": [
    "y = np.array([[[1], [2], [3]],\n",
    "              [[4], [5], [6]]])\n",
    "print(\"Shape of y: \", y.shape)\n",
    "y[1:3]"
   ]
  },
  {
   "cell_type": "markdown",
   "id": "5a35fa5e-0048-4cbb-bc43-023e74270eff",
   "metadata": {},
   "source": [
    "Ellipsis expand to the number of : objects needed to make a selection tuple of the\n",
    "same length as x.ndim. There may only be a single ellipsis present."
   ]
  },
  {
   "cell_type": "code",
   "execution_count": 21,
   "id": "74506261-7b4b-4249-9abd-fc9a85e37a38",
   "metadata": {},
   "outputs": [
    {
     "data": {
      "text/plain": [
       "array(5)"
      ]
     },
     "execution_count": 21,
     "metadata": {},
     "output_type": "execute_result"
    }
   ],
   "source": [
    "x[...,0]"
   ]
  },
  {
   "cell_type": "code",
   "execution_count": 22,
   "id": "d6991f6f-dbd3-471b-b91c-6910c19de508",
   "metadata": {},
   "outputs": [
    {
     "name": "stdout",
     "output_type": "stream",
     "text": [
      "Array a: [[ 5  6  7  8]\n",
      " [ 1  2  3  4]\n",
      " [ 9 10 11 12]]\n",
      "Array b:\n",
      " [[6 7]\n",
      " [2 3]]\n"
     ]
    }
   ],
   "source": [
    "#Create a rank 2 array with shape (3,4)\n",
    "a = np.array([[5, 6, 7, 8],\n",
    "              [1, 2, 3, 4],\n",
    "              [9, 10, 11, 12]])\n",
    "print(\"Array a:\", a)\n",
    "'''Use slicing to pull out the subarray consisting of the first 2 rows and\n",
    "columns 1 and 2; b is the following array of shape (2, 2):\n",
    "[[2 3]\n",
    "[6 7]]'''\n",
    "b = a[:2, 1:3]\n",
    "print(\"Array b:\\n\", b)\n"
   ]
  },
  {
   "cell_type": "markdown",
   "id": "93c26846-2768-424e-9d5b-1144b157eedc",
   "metadata": {},
   "source": [
    "A slice of an array is a view into the same data, so modifying itwill modify the original\n",
    "array"
   ]
  },
  {
   "cell_type": "code",
   "execution_count": 23,
   "id": "0f112a0c-352f-401b-927e-6aa45d0857c5",
   "metadata": {},
   "outputs": [
    {
     "name": "stdout",
     "output_type": "stream",
     "text": [
      "6\n",
      "77\n"
     ]
    }
   ],
   "source": [
    "print(a[0, 1])\n",
    "b[0, 0] = 77\n",
    "print(a[0, 1])\n"
   ]
  },
  {
   "cell_type": "markdown",
   "id": "3a0718e9-4ee9-40e9-9122-12cfe9d6f315",
   "metadata": {},
   "source": [
    "Middle row array can be accessed in two ways. 1) Slices along with integer indexing\n",
    "will result in an arry of lower rank. 2) Using only slices will result in same rank array.\n",
    "\n",
    "Example code:\n"
   ]
  },
  {
   "cell_type": "code",
   "execution_count": 24,
   "id": "a80c7b31-c2c9-4860-909f-11999f828e31",
   "metadata": {},
   "outputs": [
    {
     "name": "stdout",
     "output_type": "stream",
     "text": [
      "[1 2 3 4] (4,)\n",
      "[[1 2 3 4]] (1, 4)\n"
     ]
    }
   ],
   "source": [
    "row_r1=a[1,:] #Rank 1 view of the second row of a\n",
    "row_r2=a[1:2,:] #Rank 2 view of the second row of a\n",
    "print(row_r1,row_r1.shape) #Prints '[1 2 3 4] (4,)'\n",
    "print(row_r2,row_r2.shape) #Prints '[[1 2 3 4]] (1,4)"
   ]
  },
  {
   "cell_type": "code",
   "execution_count": 25,
   "id": "5da387d9-fad8-430c-bd72-d5e35e2733df",
   "metadata": {},
   "outputs": [
    {
     "name": "stdout",
     "output_type": "stream",
     "text": [
      "[77  2 10] (3,)\n",
      "[[77]\n",
      " [ 2]\n",
      " [10]] (3, 1)\n"
     ]
    }
   ],
   "source": [
    "#Accessing columns of an array \n",
    "col_r1=a[:,1] #Rank 1 view of the second column\n",
    "col_r2=a[:,1:2] #Rank 2 view of the second colummn\n",
    "print(col_r1,col_r1.shape)   # Prints \"[6 2 10] (3,)\"\n",
    "print(col_r2,col_r2.shape)  # Prints \"[[6] [2] [10]] (3, 1)\""
   ]
  },
  {
   "cell_type": "markdown",
   "id": "03861e94-3221-4848-84cb-ee0b14277b71",
   "metadata": {},
   "source": [
    "*Advanced Indexing* \n",
    "---\n",
    "Integer array indexing: Integer array indexing allows you to construct random arrays\n",
    "and other arrays. See Listing 2-7.\n",
    "\n",
    "Listing 2-7.Advanced indexinga=np.array([[1,2],[3,4]])"
   ]
  },
  {
   "cell_type": "code",
   "execution_count": 26,
   "id": "30ef61b3-0d8e-4623-b030-8f273cf27a8b",
   "metadata": {},
   "outputs": [
    {
     "name": "stdout",
     "output_type": "stream",
     "text": [
      "[5 2]\n",
      "[5 2]\n"
     ]
    }
   ],
   "source": [
    " '''An example of integer array indexing.\n",
    "    The returned array will have shape (2,) and'''\n",
    "print(a[[0,1],[0,1]])\n",
    " '''The above example of integr array indexing is equivalent to this:'''\n",
    "print(np.array([a[0,0],a[1,1]]))"
   ]
  },
  {
   "cell_type": "code",
   "execution_count": 27,
   "id": "0dc19ceb-8463-43b5-ab5a-f026e86f6c3f",
   "metadata": {},
   "outputs": [
    {
     "name": "stdout",
     "output_type": "stream",
     "text": [
      "[77 77]\n"
     ]
    }
   ],
   "source": [
    "# When using integer array indexing, you can reuse the same element from the array multiple times by specifying repeated indices.\n",
    "print(a[[0, 0], [1, 1]])"
   ]
  },
  {
   "cell_type": "code",
   "execution_count": 28,
   "id": "c3ee4432-6901-4705-8338-986d779ead26",
   "metadata": {},
   "outputs": [
    {
     "name": "stdout",
     "output_type": "stream",
     "text": [
      "[77 77]\n"
     ]
    }
   ],
   "source": [
    "# Equivalent to the previous integer array indexing example\n",
    "print(np.array([a[0, 1], a[0, 1]]))\n"
   ]
  },
  {
   "cell_type": "markdown",
   "id": "ab3ddcc4-5e7f-444f-9395-96c1f721c362",
   "metadata": {},
   "source": [
    "Boolean array indexing: This is useful to pick a random element from an array, which\n",
    "is often used for filtering elements that satisfy a given condition. See Listing 2-8.\n",
    "\n",
    "Listing 2-8. Boolean array indexing"
   ]
  },
  {
   "cell_type": "code",
   "execution_count": 29,
   "id": "3d4f0b76-2dd2-4793-968d-8d024974abf1",
   "metadata": {},
   "outputs": [
    {
     "name": "stdout",
     "output_type": "stream",
     "text": [
      "[[False False]\n",
      " [ True  True]\n",
      " [ True  True]]\n",
      "[3 4 5 6]\n"
     ]
    }
   ],
   "source": [
    "# Boolean array indexing: Useful to pick elements from an array that satisf\n",
    "a = np.array([[1, 2], [3, 4], [5, 6]])\n",
    "# Find the elements of a that are bigger than 2\n",
    "print(a > 2)\n",
    "# Get the actual values\n",
    "print(a[a > 2])"
   ]
  },
  {
   "cell_type": "markdown",
   "id": "38b0f121-2c39-484b-b949-fc8d5efdc5f9",
   "metadata": {},
   "source": [
    "Basic mathematical functions are available as operators and also as functions in NumPy. It operators element-wise on an array.See Listing 2-9"
   ]
  },
  {
   "cell_type": "markdown",
   "id": "face86d1-ad6b-42db-bfb3-98529a23a58b",
   "metadata": {},
   "source": [
    "Listing 2-9.Array math"
   ]
  },
  {
   "cell_type": "code",
   "execution_count": 30,
   "id": "eb6c506f-bfa7-4fb9-98ed-53656f5905cb",
   "metadata": {},
   "outputs": [],
   "source": [
    "#Element-wise operations\n",
    "x=np.array([[1, 2], [3, 4], [5, 6]])\n",
    "y=np.array([[7, 8], [9, 10], [11, 12]])"
   ]
  },
  {
   "cell_type": "code",
   "execution_count": 31,
   "id": "5d92664f-d4b7-4ddc-adf1-2f074a0374c6",
   "metadata": {},
   "outputs": [
    {
     "name": "stdout",
     "output_type": "stream",
     "text": [
      "[[ 8 10]\n",
      " [12 14]\n",
      " [16 18]]\n",
      "[[ 8 10]\n",
      " [12 14]\n",
      " [16 18]]\n"
     ]
    }
   ],
   "source": [
    "#Elements sum: bith produce the array\n",
    "print(x+y)\n",
    "print(np.add(x,y))"
   ]
  },
  {
   "cell_type": "code",
   "execution_count": 32,
   "id": "853d98da-51bf-4c84-bf02-45108805e34a",
   "metadata": {},
   "outputs": [
    {
     "name": "stdout",
     "output_type": "stream",
     "text": [
      "[[-6 -6]\n",
      " [-6 -6]\n",
      " [-6 -6]]\n",
      "[[-6 -6]\n",
      " [-6 -6]\n",
      " [-6 -6]]\n"
     ]
    }
   ],
   "source": [
    "#Elements difference; both produce the array \n",
    "print(x-y)\n",
    "print(np.subtract(x,y))"
   ]
  },
  {
   "cell_type": "code",
   "execution_count": 33,
   "id": "7b80fff2-443d-40d6-8037-2b9452c17e10",
   "metadata": {},
   "outputs": [
    {
     "name": "stdout",
     "output_type": "stream",
     "text": [
      "[[ 7 16]\n",
      " [27 40]\n",
      " [55 72]]\n",
      "[[ 7 16]\n",
      " [27 40]\n",
      " [55 72]]\n"
     ]
    }
   ],
   "source": [
    "#Element wise product; both produce the array\n",
    "print(x*y)\n",
    "print(np.multiply(x,y))"
   ]
  },
  {
   "cell_type": "code",
   "execution_count": 34,
   "id": "7a35b1cd-9228-4908-a301-8d0fa73e7fb9",
   "metadata": {},
   "outputs": [
    {
     "name": "stdout",
     "output_type": "stream",
     "text": [
      "[[0.14285714 0.25      ]\n",
      " [0.33333333 0.4       ]\n",
      " [0.45454545 0.5       ]]\n",
      "[[0.14285714 0.25      ]\n",
      " [0.33333333 0.4       ]\n",
      " [0.45454545 0.5       ]]\n"
     ]
    }
   ],
   "source": [
    "#Element division; both produce the array\n",
    "print(x/y)\n",
    "print(np.divide(x,y))"
   ]
  },
  {
   "cell_type": "code",
   "execution_count": 35,
   "id": "e56962c5-30d4-49d4-a3f6-22f304448406",
   "metadata": {},
   "outputs": [
    {
     "name": "stdout",
     "output_type": "stream",
     "text": [
      "[[1.         1.41421356]\n",
      " [1.73205081 2.        ]\n",
      " [2.23606798 2.44948974]]\n"
     ]
    }
   ],
   "source": [
    "#Element wise square root; produces the array\n",
    "print(np.sqrt(x))"
   ]
  },
  {
   "cell_type": "markdown",
   "id": "650919bc-cb04-4c44-9238-92d550debc4a",
   "metadata": {},
   "source": [
    "We can use the dot function to calculate inner produt of vectors or to multiply\n",
    "martices or multiply a vector by a matrix. See Listing 2-10"
   ]
  },
  {
   "cell_type": "markdown",
   "id": "90e5a046-bff5-4269-bd19-f45f3215c424",
   "metadata": {},
   "source": [
    "Listing 2-10. Array math (continued)"
   ]
  },
  {
   "cell_type": "code",
   "execution_count": 36,
   "id": "3d1bf2ea-f60d-4375-a3fd-bb553f11f918",
   "metadata": {},
   "outputs": [],
   "source": [
    "#Dot product examples\n",
    "x = np.array([[1, 2], [3, 4]])\n",
    "y = np.array([[5, 6], [7, 8]])\n",
    "a_vec = np.array([9, 10])\n",
    "b_vec = np.array([11, 12])"
   ]
  },
  {
   "cell_type": "code",
   "execution_count": 37,
   "id": "5530bcb0-1424-401b-be9f-667c89237bfe",
   "metadata": {},
   "outputs": [
    {
     "name": "stdout",
     "output_type": "stream",
     "text": [
      "219\n",
      "219\n"
     ]
    }
   ],
   "source": [
    "# Inner product of vectors\n",
    "print(a_vec.dot(b_vec))\n",
    "print(np.dot(a_vec, b_vec))\n"
   ]
  },
  {
   "cell_type": "code",
   "execution_count": 38,
   "id": "e5144bbe-9ddd-4b4b-b1b4-070318881175",
   "metadata": {},
   "outputs": [
    {
     "name": "stdout",
     "output_type": "stream",
     "text": [
      "[29 67]\n",
      "[29 67]\n"
     ]
    }
   ],
   "source": [
    "# Matrix / vector product\n",
    "print(x.dot(a_vec))\n",
    "print(np.dot(x, a_vec))\n"
   ]
  },
  {
   "cell_type": "code",
   "execution_count": 39,
   "id": "72c0a50a-a01d-44d4-a783-cb206c2625c1",
   "metadata": {},
   "outputs": [
    {
     "name": "stdout",
     "output_type": "stream",
     "text": [
      "[[19 22]\n",
      " [43 50]]\n",
      "[[19 22]\n",
      " [43 50]]\n"
     ]
    }
   ],
   "source": [
    "# Matrix / matrix product\n",
    "print(x.dot(y))\n",
    "print(np.dot(x, y))"
   ]
  },
  {
   "cell_type": "markdown",
   "id": "6d5d91a6-59f1-455e-b2e4-46559aed938e",
   "metadata": {},
   "source": [
    "NumPy provides many useful functions for performing computations on arrays. One\n",
    "of the most useful is sum.\n",
    "\n",
    "See Listing 2-11.\n",
    "\n",
    "Listing 2-11. Sum function"
   ]
  },
  {
   "cell_type": "code",
   "execution_count": 40,
   "id": "bee17c9a-d100-42c5-a6d7-de3aee93abb7",
   "metadata": {},
   "outputs": [],
   "source": [
    "# Sum function\n",
    "x = np.array([[1, 2], [3, 4]])"
   ]
  },
  {
   "cell_type": "code",
   "execution_count": 41,
   "id": "590f8c85-32bb-4f84-9821-884bb0e91fbf",
   "metadata": {},
   "outputs": [
    {
     "name": "stdout",
     "output_type": "stream",
     "text": [
      "10\n"
     ]
    }
   ],
   "source": [
    "# Compute sum of all elements\n",
    "print(np.sum(x))\n"
   ]
  },
  {
   "cell_type": "code",
   "execution_count": 42,
   "id": "4dfd7de0-c9b6-48e8-b4a5-802f3249bc33",
   "metadata": {},
   "outputs": [
    {
     "name": "stdout",
     "output_type": "stream",
     "text": [
      "[4 6]\n"
     ]
    }
   ],
   "source": [
    "# Compute sum of each column\n",
    "print(np.sum(x, axis=0))\n"
   ]
  },
  {
   "cell_type": "code",
   "execution_count": 43,
   "id": "72f1b0d3-f6d3-4b46-8c37-5ac496beff80",
   "metadata": {},
   "outputs": [
    {
     "name": "stdout",
     "output_type": "stream",
     "text": [
      "[3 7]\n"
     ]
    }
   ],
   "source": [
    "# Compute sum of each row\n",
    "print(np.sum(x, axis=1))"
   ]
  },
  {
   "cell_type": "markdown",
   "id": "1d3f5dbd-58cc-487b-aebd-60e986a65b01",
   "metadata": {},
   "source": [
    "Transpose is one of the common operations often performed on matrix, which can be\n",
    "achieved using the T attribute of an array object.\n",
    "    \n",
    "See Listing 2-12."
   ]
  },
  {
   "cell_type": "code",
   "execution_count": 44,
   "id": "3ea3194e-3710-4651-a031-825cda2caa01",
   "metadata": {},
   "outputs": [
    {
     "name": "stdout",
     "output_type": "stream",
     "text": [
      "[[1 2]\n",
      " [3 4]]\n",
      "[[1 3]\n",
      " [2 4]]\n"
     ]
    }
   ],
   "source": [
    "# Transpose\n",
    "x = np.array([[1, 2], [3, 4]])\n",
    "print(x)\n",
    "print(x.T)"
   ]
  },
  {
   "cell_type": "code",
   "execution_count": 45,
   "id": "15d81a7e-808e-455a-99c0-4cfb9b047153",
   "metadata": {},
   "outputs": [
    {
     "name": "stdout",
     "output_type": "stream",
     "text": [
      "[1 2 3]\n",
      "[1 2 3]\n"
     ]
    }
   ],
   "source": [
    "# Note that taking the transpose of a rank 1 array does nothing\n",
    "v = np.array([1, 2, 3])\n",
    "print(v)\n",
    "print(v.T)"
   ]
  },
  {
   "cell_type": "markdown",
   "id": "fb5a2ea9-e0a9-4452-b03b-ea53a9c2ea91",
   "metadata": {},
   "source": [
    "Broadcasting\n",
    "Broadcasting enables arithmetic operations to be performed between different\n",
    "shaped arrays. Let’s look at a simple example of adding a constant vector to each\n",
    "row of a matrix. \n",
    "\n",
    "See Listing 2-13.\n",
    "\n",
    "Listing 2-13. Broadcasting\n"
   ]
  },
  {
   "cell_type": "code",
   "execution_count": 46,
   "id": "d99d2931-1c1e-485e-b33d-f196b99b225f",
   "metadata": {},
   "outputs": [],
   "source": [
    "# Broadcasting\n",
    "# Adding a vector to each row of a matrix\n",
    "a = np.array([[1, 2, 3], [4, 5, 6], [7, 8, 9]])\n",
    "v = np.array([1, 0, 1])"
   ]
  },
  {
   "cell_type": "code",
   "execution_count": 47,
   "id": "eff17249-0594-406d-b84c-f2036b67c325",
   "metadata": {},
   "outputs": [
    {
     "name": "stdout",
     "output_type": "stream",
     "text": [
      "[[ 2  2  4]\n",
      " [ 5  5  7]\n",
      " [ 8  8 10]]\n"
     ]
    }
   ],
   "source": [
    "b = np.empty_like(a)\n",
    "for i in range(3):\n",
    "    b[i, :] = a[i, :] + v\n",
    "print(b)\n"
   ]
  },
  {
   "cell_type": "markdown",
   "id": "5c648b50-d55c-4fee-a1ce-629e4db89117",
   "metadata": {},
   "source": [
    "If you have to perform the above operation on a large matrix, the through loop in\n",
    "Python could be slow. Let’s look at an alternative approach. See Listing 2-14.\n",
    "\n",
    "Listing 2-14. Broadcasting for large matrix\n"
   ]
  },
  {
   "cell_type": "code",
   "execution_count": 48,
   "id": "226ee4aa-ed5c-4d1a-ad94-cb326395d22a",
   "metadata": {},
   "outputs": [
    {
     "name": "stdout",
     "output_type": "stream",
     "text": [
      "[[1 0 1]\n",
      " [1 0 1]\n",
      " [1 0 1]]\n"
     ]
    }
   ],
   "source": [
    "# Stack 3 copies of v on top of each other\n",
    "# Using np.tile to create a repeated matrix\n",
    "vv = np.tile(v, (3, 1))\n",
    "print(vv)"
   ]
  },
  {
   "cell_type": "code",
   "execution_count": 49,
   "id": "72fd6224-f032-4ea1-84e3-50536d2556bc",
   "metadata": {},
   "outputs": [
    {
     "name": "stdout",
     "output_type": "stream",
     "text": [
      "[[ 2  2  4]\n",
      " [ 5  5  7]\n",
      " [ 8  8 10]]\n"
     ]
    }
   ],
   "source": [
    "# Add a and vv elementwise\n",
    "b = a + vv\n",
    "print(b)"
   ]
  },
  {
   "cell_type": "markdown",
   "id": "2e5d83de-0ed7-4caa-afa4-f6f49c41aa99",
   "metadata": {},
   "source": [
    "Now let’s see in Listing 2-15 how the above can be achieved using NumPy\n",
    "broadcasting.\n",
    "\n",
    "Listing 2-15. Broadcasting using NumPy"
   ]
  },
  {
   "cell_type": "code",
   "execution_count": 50,
   "id": "c2df5265-4541-4cc1-92be-426917e00928",
   "metadata": {},
   "outputs": [
    {
     "name": "stdout",
     "output_type": "stream",
     "text": [
      "[[ 2  2  4]\n",
      " [ 5  5  7]\n",
      " [ 8  8 10]]\n"
     ]
    }
   ],
   "source": [
    "a = np.array([[1,2,3], [4,5,6], [7,8,9]])\n",
    "v = np.array([1, 0, 1])\n",
    "# Add v to each row of a using broadcasting\n",
    "b = a + v\n",
    "print(b)\n"
   ]
  },
  {
   "cell_type": "markdown",
   "id": "0fdb93c3-1ee4-4cb4-8b25-8f3dcca92ef9",
   "metadata": {},
   "source": [
    "Now let’s look at some applications of broadcasting in Listing 2-16.\n",
    "\n",
    "Listing 2-16. Applications of broadcasting\n"
   ]
  },
  {
   "cell_type": "code",
   "execution_count": 51,
   "id": "82cd9804-52df-407d-bf93-85892652a588",
   "metadata": {},
   "outputs": [
    {
     "name": "stdout",
     "output_type": "stream",
     "text": [
      "[[ 4  5]\n",
      " [ 8 10]\n",
      " [12 15]]\n"
     ]
    }
   ],
   "source": [
    "# Applications of broadcasting\n",
    "# Compute outer product of vectors\n",
    "v = np.array([1, 2, 3])  # shape (3,)\n",
    "w = np.array([4, 5])     # shape (2,)\n",
    "# Reshape v to (3,1) and broadcast against w to get (3,2)\n",
    "print(np.reshape(v, (3, 1)) * w)"
   ]
  },
  {
   "cell_type": "code",
   "execution_count": 52,
   "id": "80cb6144-7744-415c-bd1d-93e70509274e",
   "metadata": {},
   "outputs": [
    {
     "name": "stdout",
     "output_type": "stream",
     "text": [
      "[[2 4 6]\n",
      " [5 7 9]]\n"
     ]
    }
   ],
   "source": [
    "# Add a vector to each row of a matrix\n",
    "x = np.array([[1, 2, 3], [4, 5, 6]])\n",
    "print(x + v)\n"
   ]
  },
  {
   "cell_type": "code",
   "execution_count": 53,
   "id": "0ca75d87-bbc0-4241-9cf0-0624d53b0eef",
   "metadata": {},
   "outputs": [
    {
     "name": "stdout",
     "output_type": "stream",
     "text": [
      "[[ 5  6  7]\n",
      " [ 9 10 11]]\n",
      "[[ 5  6  7]\n",
      " [ 9 10 11]]\n"
     ]
    }
   ],
   "source": [
    "# Add a vector to each column of a matrix\n",
    "# Using transpose and broadcasting\n",
    "print((x.T + w).T)\n",
    "# Alternative: reshape w to (2,1)\n",
    "print(x + np.reshape(w, (2, 1)))"
   ]
  },
  {
   "cell_type": "code",
   "execution_count": 54,
   "id": "6a3a7859-e200-479b-bb1d-852c1e8ae97c",
   "metadata": {},
   "outputs": [
    {
     "name": "stdout",
     "output_type": "stream",
     "text": [
      "[[ 2  4  6]\n",
      " [ 8 10 12]]\n"
     ]
    }
   ],
   "source": [
    "# Multiply a matrix by a constant\n",
    "print(x * 2)\n"
   ]
  },
  {
   "cell_type": "markdown",
   "id": "7a8ee7c0-3caf-451b-afda-f4642ded3df0",
   "metadata": {},
   "source": [
    "Broadcasting typically makes your code more concise and faster, so you should strive\n",
    "to use it where possible."
   ]
  },
  {
   "cell_type": "markdown",
   "id": "c527694a-c553-43c4-b798-cae5297dc114",
   "metadata": {},
   "source": [
    "*Pandas*\n",
    "---\n",
    "Python has always been great for data munging; however it was not great for\n",
    "analysis compared to databases using SQL or Excel or R data frames. Pandas are an\n",
    "open source Python package providing fast, flexible, and expressive data structures\n",
    "designed to make working with “relational” or “labeled” data both easy and intuitive.\n",
    "Pandas were developed by Wes McKinney in 2008 while at AQR Capital Management\n",
    "out of the need for a high performance, flexible tool to perform quantitative analysis\n",
    "on financial data. Before leaving AQR he was able to convince management to allow\n",
    "him to open source the library. Pandas are well suited for tabular data with\n",
    "heterogeneously typed columns, as in an SQL table or Excel spreadsheet.\n"
   ]
  },
  {
   "cell_type": "markdown",
   "id": "169735e6-9b71-442c-a491-3bc5f4e6152c",
   "metadata": {},
   "source": [
    "*Data Structure*\n",
    "---\n",
    "Pandas introduces two new data structures to Python – Series and DataFrame, both\n",
    "of which are built on top of NumPy (this means it’s fast). Series This is a onedimensional object similar to column in a spreadsheet or SQL table. By default each\n",
    "item will be assigned an index label from 0 to N. See Listing 2-17.\n",
    "\n",
    "Listing 2-17. Creating a pandas series "
   ]
  },
  {
   "cell_type": "code",
   "execution_count": 55,
   "id": "c9f59ec7-6453-47c9-a66c-3308cb9d49e1",
   "metadata": {},
   "outputs": [],
   "source": [
    "import pandas as pd"
   ]
  },
  {
   "cell_type": "code",
   "execution_count": 56,
   "id": "f1d45c6c-2ce1-4c62-b993-8c50f7f11a96",
   "metadata": {},
   "outputs": [
    {
     "name": "stdout",
     "output_type": "stream",
     "text": [
      "A    1.0\n",
      "B    2.0\n",
      "C    3.0\n",
      "D    NaN\n",
      "E    5.0\n",
      "F    6.0\n",
      "dtype: float64\n"
     ]
    }
   ],
   "source": [
    "# creating a series by passing a list of values, and a custom index label.\n",
    "# Note that the labeled index references each row, and it can also have duplicate labels.\n",
    "s = pd.Series([1,2,3,np.nan,5,6], index=['A','B','C','D','E','F'])\n",
    "print(s)"
   ]
  },
  {
   "cell_type": "markdown",
   "id": "26eaa562-67b1-4584-8ef7-bf392110811f",
   "metadata": {},
   "source": [
    "*DataFrame*\n",
    "---\n",
    "It is a two-dimensional object similar to a spreadsheet or an SQL table. This is the\n",
    "most commonly used pandas object. See Listing 2-18.\n",
    "\n",
    "Listing 2-18. Creating a pandas dataframe"
   ]
  },
  {
   "cell_type": "code",
   "execution_count": 57,
   "id": "8605bdb7-c80d-47d2-b792-ffffc6c7bf16",
   "metadata": {},
   "outputs": [
    {
     "name": "stdout",
     "output_type": "stream",
     "text": [
      "  Emp_ID Gender  Age\n",
      "0    E01      F   25\n",
      "1    E02      M   27\n",
      "2    E03      M   25\n"
     ]
    }
   ],
   "source": [
    "data = {'Gender': ['F', 'M', 'M'],'Emp_ID': ['E01', 'E02',\n",
    "'E03'], 'Age': [25, 27, 25]}\n",
    "# We want the order the columns, so lets specify in columns parameter\n",
    "df = pd.DataFrame(data, columns=['Emp_ID','Gender', 'Age'])\n",
    "print(df)\n"
   ]
  },
  {
   "cell_type": "markdown",
   "id": "81b79860-021a-4cec-9b8b-fb13ca366e13",
   "metadata": {},
   "source": [
    "Reading and Writing Data We’ll see three commonly used file formats: csv, text file,\n",
    "and Excel in Listing 2-19.\n",
    "\n",
    "Listing 2-19. Reading / writing data from csv, text, Excel"
   ]
  },
  {
   "cell_type": "code",
   "execution_count": 61,
   "id": "25099d12-494b-4562-b823-5790d6070c18",
   "metadata": {},
   "outputs": [],
   "source": [
    "import pandas as pd\n",
    "\n",
    "# ----------------- Reading Files -----------------\n",
    "df_csv = pd.read_csv('mtcars.csv')\n",
    "df_txt = pd.read_csv('mtcars.txt', sep='\\t')\n",
    "df_excel = pd.read_excel('mtcars.xlsx', sheet_name='Sheet1')  # correct sheet name\n",
    "\n",
    "# Optional: reading multiple sheets if they exist\n",
    "xlsx = pd.ExcelFile('mtcars.xlsx')\n",
    "sheet1_df = pd.read_excel(xlsx, 'Sheet1')\n",
    "# sheet2_df = pd.read_excel(xlsx, 'Sheet2')  # only if Sheet2 exists\n",
    "\n",
    "# ----------------- Writing Files -----------------\n",
    "df_excel.to_csv('mtcars_new.csv', index=False)\n",
    "df_excel.to_csv('mtcars_new.txt', sep='\\t', index=False)\n",
    "df_excel.to_excel('mtcars_new.xlsx', sheet_name='Sheet1', index=False)\n"
   ]
  },
  {
   "cell_type": "markdown",
   "id": "d5da79c5-8355-4252-a167-7392fc1abf7e",
   "metadata": {},
   "source": [
    "■ Note Write will by default overwrite any existing file with the same name."
   ]
  },
  {
   "cell_type": "markdown",
   "id": "0bff21e1-d051-4801-96dd-8596ca1f1fba",
   "metadata": {},
   "source": [
    "*Basic Statistics Summary*\n",
    "\n",
    "Pandas has some built-in functions to help us to get better understanding of data\n",
    "using basic statistical summary methods. See Listings 2-20, 2-21, and 2-22.\n",
    "describe()- will returns the quick stats such as count, mean, std (standard deviation),\n",
    "min, first quartile, median, third quartile, max on each column of the dataframe.\n",
    "\n",
    "Listing 2-20. Basic statistics on dataframe."
   ]
  },
  {
   "cell_type": "code",
   "execution_count": 69,
   "id": "c8c68589-e64d-4133-8166-dc4e7774db45",
   "metadata": {},
   "outputs": [],
   "source": [
    "df = pd.read_csv(\"https://raw.githubusercontent.com/lovnishverma/datasets/refs/heads/main/iris_default.csv\")\n",
    "df = pd.read_csv(url)"
   ]
  },
  {
   "cell_type": "code",
   "execution_count": 70,
   "id": "2a2caa6e-b763-49f4-b473-674ee3ee1e11",
   "metadata": {},
   "outputs": [
    {
     "data": {
      "text/html": [
       "<div>\n",
       "<style scoped>\n",
       "    .dataframe tbody tr th:only-of-type {\n",
       "        vertical-align: middle;\n",
       "    }\n",
       "\n",
       "    .dataframe tbody tr th {\n",
       "        vertical-align: top;\n",
       "    }\n",
       "\n",
       "    .dataframe thead th {\n",
       "        text-align: right;\n",
       "    }\n",
       "</style>\n",
       "<table border=\"1\" class=\"dataframe\">\n",
       "  <thead>\n",
       "    <tr style=\"text-align: right;\">\n",
       "      <th></th>\n",
       "      <th>5.1</th>\n",
       "      <th>3.5</th>\n",
       "      <th>1.4</th>\n",
       "      <th>0.2</th>\n",
       "    </tr>\n",
       "  </thead>\n",
       "  <tbody>\n",
       "    <tr>\n",
       "      <th>count</th>\n",
       "      <td>149.000000</td>\n",
       "      <td>149.000000</td>\n",
       "      <td>149.000000</td>\n",
       "      <td>149.000000</td>\n",
       "    </tr>\n",
       "    <tr>\n",
       "      <th>mean</th>\n",
       "      <td>5.848322</td>\n",
       "      <td>3.051007</td>\n",
       "      <td>3.774497</td>\n",
       "      <td>1.205369</td>\n",
       "    </tr>\n",
       "    <tr>\n",
       "      <th>std</th>\n",
       "      <td>0.828594</td>\n",
       "      <td>0.433499</td>\n",
       "      <td>1.759651</td>\n",
       "      <td>0.761292</td>\n",
       "    </tr>\n",
       "    <tr>\n",
       "      <th>min</th>\n",
       "      <td>4.300000</td>\n",
       "      <td>2.000000</td>\n",
       "      <td>1.000000</td>\n",
       "      <td>0.100000</td>\n",
       "    </tr>\n",
       "    <tr>\n",
       "      <th>25%</th>\n",
       "      <td>5.100000</td>\n",
       "      <td>2.800000</td>\n",
       "      <td>1.600000</td>\n",
       "      <td>0.300000</td>\n",
       "    </tr>\n",
       "    <tr>\n",
       "      <th>50%</th>\n",
       "      <td>5.800000</td>\n",
       "      <td>3.000000</td>\n",
       "      <td>4.400000</td>\n",
       "      <td>1.300000</td>\n",
       "    </tr>\n",
       "    <tr>\n",
       "      <th>75%</th>\n",
       "      <td>6.400000</td>\n",
       "      <td>3.300000</td>\n",
       "      <td>5.100000</td>\n",
       "      <td>1.800000</td>\n",
       "    </tr>\n",
       "    <tr>\n",
       "      <th>max</th>\n",
       "      <td>7.900000</td>\n",
       "      <td>4.400000</td>\n",
       "      <td>6.900000</td>\n",
       "      <td>2.500000</td>\n",
       "    </tr>\n",
       "  </tbody>\n",
       "</table>\n",
       "</div>"
      ],
      "text/plain": [
       "              5.1         3.5         1.4         0.2\n",
       "count  149.000000  149.000000  149.000000  149.000000\n",
       "mean     5.848322    3.051007    3.774497    1.205369\n",
       "std      0.828594    0.433499    1.759651    0.761292\n",
       "min      4.300000    2.000000    1.000000    0.100000\n",
       "25%      5.100000    2.800000    1.600000    0.300000\n",
       "50%      5.800000    3.000000    4.400000    1.300000\n",
       "75%      6.400000    3.300000    5.100000    1.800000\n",
       "max      7.900000    4.400000    6.900000    2.500000"
      ]
     },
     "execution_count": 70,
     "metadata": {},
     "output_type": "execute_result"
    }
   ],
   "source": [
    "df.describe()"
   ]
  },
  {
   "cell_type": "markdown",
   "id": "38f57648-d48e-4e06-aa8c-4a356f1d1efb",
   "metadata": {},
   "source": [
    "cov() - Covariance indicates how two variables are related. A positive covariance\n",
    "means the variables are positively related, while a negative covariance means the variables are inversely related. Drawback of covariance is that it does not tell you the\n",
    "degree of positive or negative relation\n",
    "\n",
    "Listing 2-21. Creating covariance on dataframe"
   ]
  },
  {
   "cell_type": "code",
   "execution_count": 71,
   "id": "b5c0817a-d57f-407d-bcbd-643820ebc042",
   "metadata": {},
   "outputs": [
    {
     "data": {
      "text/html": [
       "<div>\n",
       "<style scoped>\n",
       "    .dataframe tbody tr th:only-of-type {\n",
       "        vertical-align: middle;\n",
       "    }\n",
       "\n",
       "    .dataframe tbody tr th {\n",
       "        vertical-align: top;\n",
       "    }\n",
       "\n",
       "    .dataframe thead th {\n",
       "        text-align: right;\n",
       "    }\n",
       "</style>\n",
       "<table border=\"1\" class=\"dataframe\">\n",
       "  <thead>\n",
       "    <tr style=\"text-align: right;\">\n",
       "      <th></th>\n",
       "      <th>5.1</th>\n",
       "      <th>3.5</th>\n",
       "      <th>1.4</th>\n",
       "      <th>0.2</th>\n",
       "    </tr>\n",
       "  </thead>\n",
       "  <tbody>\n",
       "    <tr>\n",
       "      <th>5.1</th>\n",
       "      <td>0.686568</td>\n",
       "      <td>-0.037279</td>\n",
       "      <td>1.270362</td>\n",
       "      <td>0.515347</td>\n",
       "    </tr>\n",
       "    <tr>\n",
       "      <th>3.5</th>\n",
       "      <td>-0.037279</td>\n",
       "      <td>0.187921</td>\n",
       "      <td>-0.316731</td>\n",
       "      <td>-0.115749</td>\n",
       "    </tr>\n",
       "    <tr>\n",
       "      <th>1.4</th>\n",
       "      <td>1.270362</td>\n",
       "      <td>-0.316731</td>\n",
       "      <td>3.096372</td>\n",
       "      <td>1.289124</td>\n",
       "    </tr>\n",
       "    <tr>\n",
       "      <th>0.2</th>\n",
       "      <td>0.515347</td>\n",
       "      <td>-0.115749</td>\n",
       "      <td>1.289124</td>\n",
       "      <td>0.579566</td>\n",
       "    </tr>\n",
       "  </tbody>\n",
       "</table>\n",
       "</div>"
      ],
      "text/plain": [
       "          5.1       3.5       1.4       0.2\n",
       "5.1  0.686568 -0.037279  1.270362  0.515347\n",
       "3.5 -0.037279  0.187921 -0.316731 -0.115749\n",
       "1.4  1.270362 -0.316731  3.096372  1.289124\n",
       "0.2  0.515347 -0.115749  1.289124  0.579566"
      ]
     },
     "execution_count": 71,
     "metadata": {},
     "output_type": "execute_result"
    }
   ],
   "source": [
    "num_df=df.select_dtypes(include='number')\n",
    "num_df.cov()"
   ]
  },
  {
   "cell_type": "markdown",
   "id": "e62d9884-f499-4795-9f69-b2f4679fb302",
   "metadata": {},
   "source": [
    "*corr()* - Correlation is another way to determine how two variables are related. In addition to telling you whether variables are positively or inversely related, correlation also tells you the degree to which the variables tend to move together. When you say that two items correlate, you are saying that the change in one item effects a change in another item. You will always talk about correlation as a range between -1 and 1. In the below example code, petal length is 87% positively related to sepal length that means a change in petal length results in a positive 87% change to sepal lenth and vice versa.\n",
    "\n",
    "Listing 2-22. Creating correlation matrix on dataframe"
   ]
  },
  {
   "cell_type": "code",
   "execution_count": 73,
   "id": "1f3b6442-425f-40b6-8d92-2668f8611a90",
   "metadata": {},
   "outputs": [
    {
     "data": {
      "text/html": [
       "<div>\n",
       "<style scoped>\n",
       "    .dataframe tbody tr th:only-of-type {\n",
       "        vertical-align: middle;\n",
       "    }\n",
       "\n",
       "    .dataframe tbody tr th {\n",
       "        vertical-align: top;\n",
       "    }\n",
       "\n",
       "    .dataframe thead th {\n",
       "        text-align: right;\n",
       "    }\n",
       "</style>\n",
       "<table border=\"1\" class=\"dataframe\">\n",
       "  <thead>\n",
       "    <tr style=\"text-align: right;\">\n",
       "      <th></th>\n",
       "      <th>5.1</th>\n",
       "      <th>3.5</th>\n",
       "      <th>1.4</th>\n",
       "      <th>0.2</th>\n",
       "    </tr>\n",
       "  </thead>\n",
       "  <tbody>\n",
       "    <tr>\n",
       "      <th>5.1</th>\n",
       "      <td>1.000000</td>\n",
       "      <td>-0.103784</td>\n",
       "      <td>0.871283</td>\n",
       "      <td>0.816971</td>\n",
       "    </tr>\n",
       "    <tr>\n",
       "      <th>3.5</th>\n",
       "      <td>-0.103784</td>\n",
       "      <td>1.000000</td>\n",
       "      <td>-0.415218</td>\n",
       "      <td>-0.350733</td>\n",
       "    </tr>\n",
       "    <tr>\n",
       "      <th>1.4</th>\n",
       "      <td>0.871283</td>\n",
       "      <td>-0.415218</td>\n",
       "      <td>1.000000</td>\n",
       "      <td>0.962314</td>\n",
       "    </tr>\n",
       "    <tr>\n",
       "      <th>0.2</th>\n",
       "      <td>0.816971</td>\n",
       "      <td>-0.350733</td>\n",
       "      <td>0.962314</td>\n",
       "      <td>1.000000</td>\n",
       "    </tr>\n",
       "  </tbody>\n",
       "</table>\n",
       "</div>"
      ],
      "text/plain": [
       "          5.1       3.5       1.4       0.2\n",
       "5.1  1.000000 -0.103784  0.871283  0.816971\n",
       "3.5 -0.103784  1.000000 -0.415218 -0.350733\n",
       "1.4  0.871283 -0.415218  1.000000  0.962314\n",
       "0.2  0.816971 -0.350733  0.962314  1.000000"
      ]
     },
     "execution_count": 73,
     "metadata": {},
     "output_type": "execute_result"
    }
   ],
   "source": [
    "num_df.corr()"
   ]
  },
  {
   "cell_type": "markdown",
   "id": "12d48386-c09b-4319-9835-348913c880f3",
   "metadata": {},
   "source": [
    "**Viewind Data**\n",
    "\n",
    "The Pandas dataframe comes with built-in functions to view the contained data. See Table 2-2.\n",
    "\n",
    "Table 2-2. Pandas view function"
   ]
  },
  {
   "cell_type": "markdown",
   "id": "eefcf596-d84d-4710-87b3-a493b5fb8586",
   "metadata": {},
   "source": [
    "| **Description**                               | **Syntax / Example**                                                                               |\n",
    "| --------------------------------------------- | -------------------------------------------------------------------------------------------------- |\n",
    "| Convert string to date series                 | `pd.to_datetime(pd.Series(['2017-04-01','2017-04-02','2017-04-03']))`                              |\n",
    "| Rename a specific column                      | `df.rename(columns={'old_columnname':'new_columnname'}, inplace=True)`                             |\n",
    "| Rename all columns of DataFrame               | `df.columns = ['col1_new_name','col2_new_name', …]`                                                |\n",
    "| Flag duplicates                               | `df.duplicated()`                                                                                  |\n",
    "| Drop duplicates                               | `df = df.drop_duplicates()`                                                                        |\n",
    "| Drop duplicates in specific column            | `df.drop_duplicates(['column_name'])`                                                              |\n",
    "| Drop duplicates but retain first/last         | `df.drop_duplicates(['column_name'], keep='first')` # use `'last'` to retain last occurrence       |\n",
    "| Create new column from existing column        | `df['new_column_name'] = df['existing_column_name'] + 5`                                           |\n",
    "| Create new column from two columns            | `df['new_column_name'] = df['existing_column1'] + '_' + df['existing_column2']`                    |\n",
    "| Add a list or new column to DataFrame         | `df['new_column_name'] = pd.Series(mylist)`                                                        |\n",
    "| Drop missing rows/columns                     | `df.dropna()`                                                                                      |\n",
    "| Replace all missing values with 0             | `df.fillna(value=0)`                                                                               |\n",
    "| Forward/backward fill missing values          | `df.fillna(method='ffill', inplace=True, limit=1)` # forward fill; use `'bfill'` for backward fill |\n",
    "| Check missing value condition                 | `pd.isnull(df)` # returns Boolean True/False for each cell                                         |\n",
    "| Replace missing values with column mean       | `mean = df['column_name'].mean(); df['column_name'].fillna(mean)`                                  |\n",
    "| Return mean for each column                   | `df.mean()`                                                                                        |\n",
    "| Return max for each column                    | `df.max()`                                                                                         |\n",
    "| Return min for each column                    | `df.min()`                                                                                         |\n",
    "| Return sum for each column                    | `df.sum()`                                                                                         |\n",
    "| Return count for each column                  | `df.count()`                                                                                       |\n",
    "| Return cumulative sum for each column         | `df.cumsum()`                                                                                      |\n",
    "| Apply a function along any axis               | `df.apply(np.cumsum)`                                                                              |\n",
    "| Iterate over a series                         | `df['column_name'].map(lambda x: 1+x)` # adds 1 to each element                                    |\n",
    "| Apply a function to each element of DataFrame | `func = lambda x: x + 1; df.applymap(func)` # adds 1 to every element                              |\n",
    "\n",
    "---\n"
   ]
  },
  {
   "cell_type": "markdown",
   "id": "577af0df-4149-4082-a6b8-cfe7af09c798",
   "metadata": {},
   "source": [
    "Merge/Join\n",
    "\n",
    "Pandas provide various facilities for easily combining together Series, DataFrame, and Panel objects with various kinds of set logic for the indexes and relational algebra functionality in the case of join merge-type operations. See Figure 2-27.\n",
    "\n",
    "Listing 2-23. Concat or append operation"
   ]
  },
  {
   "cell_type": "code",
   "execution_count": 79,
   "id": "83ff59aa-827d-4aa2-b6cf-ab8488153740",
   "metadata": {},
   "outputs": [],
   "source": [
    "data = {\n",
    " 'emp_id': ['1', '2', '3', '4', '5'],\n",
    " 'first_name': ['Jason', 'Andy', 'Allen', 'Alice', 'Amy'],\n",
    " 'last_name': ['Larkin', 'Jacob', 'A', 'AA', 'Jackson']}\n",
    "\n",
    "df_1 = pd.DataFrame(data, columns = ['emp_id', 'first_name', 'last_name'])\n",
    "\n",
    "data = {\n",
    " 'emp_id': ['4', '5', '6', '7'],\n",
    " 'first_name': ['Brian', 'Shize', 'Kim', 'Jose'],\n",
    " 'last_name': ['Alexander', 'Suma', 'Mike', 'G']}\n",
    "\n",
    "df_2 = pd.DataFrame(data, columns = ['emp_id', 'first_name', 'last_name'])"
   ]
  },
  {
   "cell_type": "code",
   "execution_count": 80,
   "id": "96513907-7492-45d7-a594-cd44bc21e010",
   "metadata": {},
   "outputs": [
    {
     "name": "stdout",
     "output_type": "stream",
     "text": [
      "  emp_id first_name  last_name\n",
      "0      1      Jason     Larkin\n",
      "1      2       Andy      Jacob\n",
      "2      3      Allen          A\n",
      "3      4      Alice         AA\n",
      "4      5        Amy    Jackson\n",
      "0      4      Brian  Alexander\n",
      "1      5      Shize       Suma\n",
      "2      6        Kim       Mike\n",
      "3      7       Jose          G\n"
     ]
    }
   ],
   "source": [
    "# Using concat\n",
    "df = pd.concat([df_1, df_2])\n",
    "print(df)"
   ]
  },
  {
   "cell_type": "code",
   "execution_count": 81,
   "id": "66791661-a94e-4145-8c66-5646f17b19d1",
   "metadata": {},
   "outputs": [
    {
     "data": {
      "text/html": [
       "<div>\n",
       "<style scoped>\n",
       "    .dataframe tbody tr th:only-of-type {\n",
       "        vertical-align: middle;\n",
       "    }\n",
       "\n",
       "    .dataframe tbody tr th {\n",
       "        vertical-align: top;\n",
       "    }\n",
       "\n",
       "    .dataframe thead th {\n",
       "        text-align: right;\n",
       "    }\n",
       "</style>\n",
       "<table border=\"1\" class=\"dataframe\">\n",
       "  <thead>\n",
       "    <tr style=\"text-align: right;\">\n",
       "      <th></th>\n",
       "      <th>emp_id</th>\n",
       "      <th>first_name</th>\n",
       "      <th>last_name</th>\n",
       "      <th>emp_id</th>\n",
       "      <th>first_name</th>\n",
       "      <th>last_name</th>\n",
       "    </tr>\n",
       "  </thead>\n",
       "  <tbody>\n",
       "    <tr>\n",
       "      <th>0</th>\n",
       "      <td>1</td>\n",
       "      <td>Jason</td>\n",
       "      <td>Larkin</td>\n",
       "      <td>4</td>\n",
       "      <td>Brian</td>\n",
       "      <td>Alexander</td>\n",
       "    </tr>\n",
       "    <tr>\n",
       "      <th>1</th>\n",
       "      <td>2</td>\n",
       "      <td>Andy</td>\n",
       "      <td>Jacob</td>\n",
       "      <td>5</td>\n",
       "      <td>Shize</td>\n",
       "      <td>Suma</td>\n",
       "    </tr>\n",
       "    <tr>\n",
       "      <th>2</th>\n",
       "      <td>3</td>\n",
       "      <td>Allen</td>\n",
       "      <td>A</td>\n",
       "      <td>6</td>\n",
       "      <td>Kim</td>\n",
       "      <td>Mike</td>\n",
       "    </tr>\n",
       "    <tr>\n",
       "      <th>3</th>\n",
       "      <td>4</td>\n",
       "      <td>Alice</td>\n",
       "      <td>AA</td>\n",
       "      <td>7</td>\n",
       "      <td>Jose</td>\n",
       "      <td>G</td>\n",
       "    </tr>\n",
       "    <tr>\n",
       "      <th>4</th>\n",
       "      <td>5</td>\n",
       "      <td>Amy</td>\n",
       "      <td>Jackson</td>\n",
       "      <td>NaN</td>\n",
       "      <td>NaN</td>\n",
       "      <td>NaN</td>\n",
       "    </tr>\n",
       "  </tbody>\n",
       "</table>\n",
       "</div>"
      ],
      "text/plain": [
       "  emp_id first_name last_name emp_id first_name  last_name\n",
       "0      1      Jason    Larkin      4      Brian  Alexander\n",
       "1      2       Andy     Jacob      5      Shize       Suma\n",
       "2      3      Allen         A      6        Kim       Mike\n",
       "3      4      Alice        AA      7       Jose          G\n",
       "4      5        Amy   Jackson    NaN        NaN        NaN"
      ]
     },
     "execution_count": 81,
     "metadata": {},
     "output_type": "execute_result"
    }
   ],
   "source": [
    "# Join the two dataframes along columns\n",
    "pd.concat([df_1, df_2], axis=1)"
   ]
  },
  {
   "cell_type": "code",
   "execution_count": 82,
   "id": "3a14dee9-bc75-47c3-8187-520f3e3c3d6d",
   "metadata": {},
   "outputs": [
    {
     "data": {
      "text/html": [
       "<div>\n",
       "<style scoped>\n",
       "    .dataframe tbody tr th:only-of-type {\n",
       "        vertical-align: middle;\n",
       "    }\n",
       "\n",
       "    .dataframe tbody tr th {\n",
       "        vertical-align: top;\n",
       "    }\n",
       "\n",
       "    .dataframe thead th {\n",
       "        text-align: right;\n",
       "    }\n",
       "</style>\n",
       "<table border=\"1\" class=\"dataframe\">\n",
       "  <thead>\n",
       "    <tr style=\"text-align: right;\">\n",
       "      <th></th>\n",
       "      <th>emp_id</th>\n",
       "      <th>first_name_x</th>\n",
       "      <th>last_name_x</th>\n",
       "      <th>first_name_y</th>\n",
       "      <th>last_name_y</th>\n",
       "    </tr>\n",
       "  </thead>\n",
       "  <tbody>\n",
       "    <tr>\n",
       "      <th>0</th>\n",
       "      <td>4</td>\n",
       "      <td>Alice</td>\n",
       "      <td>AA</td>\n",
       "      <td>Brian</td>\n",
       "      <td>Alexander</td>\n",
       "    </tr>\n",
       "    <tr>\n",
       "      <th>1</th>\n",
       "      <td>5</td>\n",
       "      <td>Amy</td>\n",
       "      <td>Jackson</td>\n",
       "      <td>Shize</td>\n",
       "      <td>Suma</td>\n",
       "    </tr>\n",
       "  </tbody>\n",
       "</table>\n",
       "</div>"
      ],
      "text/plain": [
       "  emp_id first_name_x last_name_x first_name_y last_name_y\n",
       "0      4        Alice          AA        Brian   Alexander\n",
       "1      5          Amy     Jackson        Shize        Suma"
      ]
     },
     "execution_count": 82,
     "metadata": {},
     "output_type": "execute_result"
    }
   ],
   "source": [
    "# Merge two dataframes based on the emp_id value\n",
    "# in this case only the emp_id's present in both table will be joined\n",
    "pd.merge(df_1, df_2, on='emp_id')"
   ]
  },
  {
   "cell_type": "markdown",
   "id": "a9c83fc6-5ef4-46bf-8ae3-c39e3fff413e",
   "metadata": {},
   "source": [
    "**Join**\n",
    "\n",
    "Pandas offer SQL style merges as well.\n",
    "Left join produces a complete set of records from Table A, with the matching records\n",
    "where available in Table B. If there is no match, the right side will contain null.\n",
    "\n",
    "■ Note Note that you can suffix to avoid duplicate; if not provided it will automatically add\n",
    "x to the Table A and y to Table B. See Listings 2-25 and 2-26.\n",
    "\n",
    "\n",
    "\n",
    "Listing 2-25. Left join two dataframes"
   ]
  },
  {
   "cell_type": "code",
   "execution_count": 85,
   "id": "023c8179-1016-47fb-8864-88bdc9797ff1",
   "metadata": {},
   "outputs": [
    {
     "name": "stdout",
     "output_type": "stream",
     "text": [
      "  emp_id first_name_x last_name_x first_name_y last_name_y\n",
      "0      1        Jason      Larkin          NaN         NaN\n",
      "1      2         Andy       Jacob          NaN         NaN\n",
      "2      3        Allen           A          NaN         NaN\n",
      "3      4        Alice          AA        Brian   Alexander\n",
      "4      5          Amy     Jackson        Shize        Suma\n"
     ]
    }
   ],
   "source": [
    "# Left join\n",
    "print(pd.merge(df_1, df_2, on='emp_id', how='left'))"
   ]
  },
  {
   "cell_type": "code",
   "execution_count": 86,
   "id": "b8d96261-e553-47a6-92db-056695f986eb",
   "metadata": {},
   "outputs": [
    {
     "name": "stdout",
     "output_type": "stream",
     "text": [
      "  emp_id first_name_left last_name_left first_name_right last_name_right\n",
      "0      1           Jason         Larkin              NaN             NaN\n",
      "1      2            Andy          Jacob              NaN             NaN\n",
      "2      3           Allen              A              NaN             NaN\n",
      "3      4           Alice             AA            Brian       Alexander\n",
      "4      5             Amy        Jackson            Shize            Suma\n"
     ]
    }
   ],
   "source": [
    "# Merge while adding a suffix to duplicate column names of both table\n",
    "print(pd.merge(df_1, df_2, on='emp_id', how='left', suffixes=('_left', '_right')))"
   ]
  },
  {
   "cell_type": "markdown",
   "id": "98ba5495-6c30-4565-baa7-6aadcdd9c184",
   "metadata": {},
   "source": [
    "Right join - Right join produces a complete set of records from Table B,\n",
    "with the matching records where available in Table A. If there is no match,\n",
    "the left side will contain null.\n",
    "\n",
    "Listing 2-26. Right join two dataframes"
   ]
  },
  {
   "cell_type": "code",
   "execution_count": 88,
   "id": "359571c3-4aac-444c-b178-761d348e2728",
   "metadata": {},
   "outputs": [
    {
     "data": {
      "text/html": [
       "<div>\n",
       "<style scoped>\n",
       "    .dataframe tbody tr th:only-of-type {\n",
       "        vertical-align: middle;\n",
       "    }\n",
       "\n",
       "    .dataframe tbody tr th {\n",
       "        vertical-align: top;\n",
       "    }\n",
       "\n",
       "    .dataframe thead th {\n",
       "        text-align: right;\n",
       "    }\n",
       "</style>\n",
       "<table border=\"1\" class=\"dataframe\">\n",
       "  <thead>\n",
       "    <tr style=\"text-align: right;\">\n",
       "      <th></th>\n",
       "      <th>emp_id</th>\n",
       "      <th>first_name_x</th>\n",
       "      <th>last_name_x</th>\n",
       "      <th>first_name_y</th>\n",
       "      <th>last_name_y</th>\n",
       "    </tr>\n",
       "  </thead>\n",
       "  <tbody>\n",
       "    <tr>\n",
       "      <th>0</th>\n",
       "      <td>4</td>\n",
       "      <td>Alice</td>\n",
       "      <td>AA</td>\n",
       "      <td>Brian</td>\n",
       "      <td>Alexander</td>\n",
       "    </tr>\n",
       "    <tr>\n",
       "      <th>1</th>\n",
       "      <td>5</td>\n",
       "      <td>Amy</td>\n",
       "      <td>Jackson</td>\n",
       "      <td>Shize</td>\n",
       "      <td>Suma</td>\n",
       "    </tr>\n",
       "    <tr>\n",
       "      <th>2</th>\n",
       "      <td>6</td>\n",
       "      <td>NaN</td>\n",
       "      <td>NaN</td>\n",
       "      <td>Kim</td>\n",
       "      <td>Mike</td>\n",
       "    </tr>\n",
       "    <tr>\n",
       "      <th>3</th>\n",
       "      <td>7</td>\n",
       "      <td>NaN</td>\n",
       "      <td>NaN</td>\n",
       "      <td>Jose</td>\n",
       "      <td>G</td>\n",
       "    </tr>\n",
       "  </tbody>\n",
       "</table>\n",
       "</div>"
      ],
      "text/plain": [
       "  emp_id first_name_x last_name_x first_name_y last_name_y\n",
       "0      4        Alice          AA        Brian   Alexander\n",
       "1      5          Amy     Jackson        Shize        Suma\n",
       "2      6          NaN         NaN          Kim        Mike\n",
       "3      7          NaN         NaN         Jose           G"
      ]
     },
     "execution_count": 88,
     "metadata": {},
     "output_type": "execute_result"
    }
   ],
   "source": [
    "# Right join\n",
    "pd.merge(df_1, df_2, on='emp_id', how='right')"
   ]
  },
  {
   "cell_type": "markdown",
   "id": "ae2f77cf-d72c-480d-8450-4b5cf43cda6c",
   "metadata": {},
   "source": [
    "Inner Join - Inner join produces only the set of records that match in both Table A\n",
    "and Table B. See Listing 2-27\n",
    "\n",
    "Listing 2-27. Inner join two dataframespd.merge(df_1, df_2, on=‘emp_id’, how=‘inner’)"
   ]
  },
  {
   "cell_type": "code",
   "execution_count": 90,
   "id": "8a6b9dd6-db1f-46de-b97f-71df716f7dac",
   "metadata": {},
   "outputs": [
    {
     "data": {
      "text/html": [
       "<div>\n",
       "<style scoped>\n",
       "    .dataframe tbody tr th:only-of-type {\n",
       "        vertical-align: middle;\n",
       "    }\n",
       "\n",
       "    .dataframe tbody tr th {\n",
       "        vertical-align: top;\n",
       "    }\n",
       "\n",
       "    .dataframe thead th {\n",
       "        text-align: right;\n",
       "    }\n",
       "</style>\n",
       "<table border=\"1\" class=\"dataframe\">\n",
       "  <thead>\n",
       "    <tr style=\"text-align: right;\">\n",
       "      <th></th>\n",
       "      <th>emp_id</th>\n",
       "      <th>first_name_x</th>\n",
       "      <th>last_name_x</th>\n",
       "      <th>first_name_y</th>\n",
       "      <th>last_name_y</th>\n",
       "    </tr>\n",
       "  </thead>\n",
       "  <tbody>\n",
       "    <tr>\n",
       "      <th>0</th>\n",
       "      <td>4</td>\n",
       "      <td>Alice</td>\n",
       "      <td>AA</td>\n",
       "      <td>Brian</td>\n",
       "      <td>Alexander</td>\n",
       "    </tr>\n",
       "    <tr>\n",
       "      <th>1</th>\n",
       "      <td>5</td>\n",
       "      <td>Amy</td>\n",
       "      <td>Jackson</td>\n",
       "      <td>Shize</td>\n",
       "      <td>Suma</td>\n",
       "    </tr>\n",
       "  </tbody>\n",
       "</table>\n",
       "</div>"
      ],
      "text/plain": [
       "  emp_id first_name_x last_name_x first_name_y last_name_y\n",
       "0      4        Alice          AA        Brian   Alexander\n",
       "1      5          Amy     Jackson        Shize        Suma"
      ]
     },
     "execution_count": 90,
     "metadata": {},
     "output_type": "execute_result"
    }
   ],
   "source": [
    "# Inner Join\n",
    "pd.merge(df_1, df_2, on='emp_id', how='inner')"
   ]
  },
  {
   "cell_type": "code",
   "execution_count": 91,
   "id": "472619a9-b1a3-48ed-956b-a11759920bb1",
   "metadata": {},
   "outputs": [
    {
     "data": {
      "text/html": [
       "<div>\n",
       "<style scoped>\n",
       "    .dataframe tbody tr th:only-of-type {\n",
       "        vertical-align: middle;\n",
       "    }\n",
       "\n",
       "    .dataframe tbody tr th {\n",
       "        vertical-align: top;\n",
       "    }\n",
       "\n",
       "    .dataframe thead th {\n",
       "        text-align: right;\n",
       "    }\n",
       "</style>\n",
       "<table border=\"1\" class=\"dataframe\">\n",
       "  <thead>\n",
       "    <tr style=\"text-align: right;\">\n",
       "      <th></th>\n",
       "      <th>emp_id</th>\n",
       "      <th>first_name_x</th>\n",
       "      <th>last_name_x</th>\n",
       "      <th>first_name_y</th>\n",
       "      <th>last_name_y</th>\n",
       "    </tr>\n",
       "  </thead>\n",
       "  <tbody>\n",
       "    <tr>\n",
       "      <th>0</th>\n",
       "      <td>1</td>\n",
       "      <td>Jason</td>\n",
       "      <td>Larkin</td>\n",
       "      <td>NaN</td>\n",
       "      <td>NaN</td>\n",
       "    </tr>\n",
       "    <tr>\n",
       "      <th>1</th>\n",
       "      <td>2</td>\n",
       "      <td>Andy</td>\n",
       "      <td>Jacob</td>\n",
       "      <td>NaN</td>\n",
       "      <td>NaN</td>\n",
       "    </tr>\n",
       "    <tr>\n",
       "      <th>2</th>\n",
       "      <td>3</td>\n",
       "      <td>Allen</td>\n",
       "      <td>A</td>\n",
       "      <td>NaN</td>\n",
       "      <td>NaN</td>\n",
       "    </tr>\n",
       "    <tr>\n",
       "      <th>3</th>\n",
       "      <td>4</td>\n",
       "      <td>Alice</td>\n",
       "      <td>AA</td>\n",
       "      <td>Brian</td>\n",
       "      <td>Alexander</td>\n",
       "    </tr>\n",
       "    <tr>\n",
       "      <th>4</th>\n",
       "      <td>5</td>\n",
       "      <td>Amy</td>\n",
       "      <td>Jackson</td>\n",
       "      <td>Shize</td>\n",
       "      <td>Suma</td>\n",
       "    </tr>\n",
       "    <tr>\n",
       "      <th>5</th>\n",
       "      <td>6</td>\n",
       "      <td>NaN</td>\n",
       "      <td>NaN</td>\n",
       "      <td>Kim</td>\n",
       "      <td>Mike</td>\n",
       "    </tr>\n",
       "    <tr>\n",
       "      <th>6</th>\n",
       "      <td>7</td>\n",
       "      <td>NaN</td>\n",
       "      <td>NaN</td>\n",
       "      <td>Jose</td>\n",
       "      <td>G</td>\n",
       "    </tr>\n",
       "  </tbody>\n",
       "</table>\n",
       "</div>"
      ],
      "text/plain": [
       "  emp_id first_name_x last_name_x first_name_y last_name_y\n",
       "0      1        Jason      Larkin          NaN         NaN\n",
       "1      2         Andy       Jacob          NaN         NaN\n",
       "2      3        Allen           A          NaN         NaN\n",
       "3      4        Alice          AA        Brian   Alexander\n",
       "4      5          Amy     Jackson        Shize        Suma\n",
       "5      6          NaN         NaN          Kim        Mike\n",
       "6      7          NaN         NaN         Jose           G"
      ]
     },
     "execution_count": 91,
     "metadata": {},
     "output_type": "execute_result"
    }
   ],
   "source": [
    "pd.merge(df_1, df_2, on='emp_id', how='outer')"
   ]
  },
  {
   "cell_type": "markdown",
   "id": "83d00402-08db-482f-b33a-da398a3df2a5",
   "metadata": {},
   "source": [
    "**Grouping**\n",
    "\n",
    "Grouping involves one or more of the following steps:\n",
    "• Splitting the data into groups based on some criteria,\n",
    "• Applying a function to each group independently,\n",
    "• Combining the results into a data structure (see Listing 2-29).\n",
    "\n",
    "\n",
    "\n",
    "Listing 2-29. Grouping operation"
   ]
  },
  {
   "cell_type": "code",
   "execution_count": 93,
   "id": "53c621c8-f331-451d-a3a3-9514b48f3c03",
   "metadata": {},
   "outputs": [],
   "source": [
    "# Create the DataFrame\n",
    "df = pd.DataFrame({\n",
    "    'Name': ['jack', 'jane', 'jack', 'jane', 'jack', 'jane', 'jack', 'jane'],\n",
    "    'State': ['SFO', 'SFO', 'NYK', 'CA', 'NYK', 'NYK', 'SFO', 'CA'],\n",
    "    'Grade': ['A', 'A', 'B', 'A', 'C', 'B', 'C', 'A'],\n",
    "    'Age': np.random.uniform(24, 50, size=8),\n",
    "    'Salary': np.random.uniform(3000, 5000, size=8)\n",
    "})"
   ]
  },
  {
   "cell_type": "code",
   "execution_count": 94,
   "id": "f92c1130-4b55-45a5-a060-6cbf396f5064",
   "metadata": {},
   "outputs": [
    {
     "name": "stdout",
     "output_type": "stream",
     "text": [
      "   Name State Grade        Age       Salary\n",
      "0  jack   SFO     A  36.477960  4765.495403\n",
      "1  jane   SFO     A  35.589014  4624.959467\n",
      "2  jack   NYK     B  34.704898  3279.140963\n",
      "3  jane    CA     A  43.140047  3858.002187\n",
      "4  jack   NYK     C  41.464529  4190.195263\n",
      "5  jane   NYK     B  26.074128  3254.029902\n",
      "6  jack   SFO     C  47.458403  3173.069678\n",
      "7  jane    CA     A  44.224668  4245.876314\n"
     ]
    }
   ],
   "source": [
    "# Display the DataFrame\n",
    "print(df)\n"
   ]
  },
  {
   "cell_type": "code",
   "execution_count": 95,
   "id": "3d9fdc51-865f-4900-8f6f-9c2652ab95c7",
   "metadata": {},
   "outputs": [
    {
     "data": {
      "text/html": [
       "<div>\n",
       "<style scoped>\n",
       "    .dataframe tbody tr th:only-of-type {\n",
       "        vertical-align: middle;\n",
       "    }\n",
       "\n",
       "    .dataframe tbody tr th {\n",
       "        vertical-align: top;\n",
       "    }\n",
       "\n",
       "    .dataframe thead th {\n",
       "        text-align: right;\n",
       "    }\n",
       "</style>\n",
       "<table border=\"1\" class=\"dataframe\">\n",
       "  <thead>\n",
       "    <tr style=\"text-align: right;\">\n",
       "      <th></th>\n",
       "      <th></th>\n",
       "      <th>Grade</th>\n",
       "      <th>Age</th>\n",
       "      <th>Salary</th>\n",
       "    </tr>\n",
       "    <tr>\n",
       "      <th>Name</th>\n",
       "      <th>State</th>\n",
       "      <th></th>\n",
       "      <th></th>\n",
       "      <th></th>\n",
       "    </tr>\n",
       "  </thead>\n",
       "  <tbody>\n",
       "    <tr>\n",
       "      <th rowspan=\"2\" valign=\"top\">jack</th>\n",
       "      <th>NYK</th>\n",
       "      <td>C</td>\n",
       "      <td>41.464529</td>\n",
       "      <td>4190.195263</td>\n",
       "    </tr>\n",
       "    <tr>\n",
       "      <th>SFO</th>\n",
       "      <td>C</td>\n",
       "      <td>47.458403</td>\n",
       "      <td>4765.495403</td>\n",
       "    </tr>\n",
       "    <tr>\n",
       "      <th rowspan=\"3\" valign=\"top\">jane</th>\n",
       "      <th>CA</th>\n",
       "      <td>A</td>\n",
       "      <td>44.224668</td>\n",
       "      <td>4245.876314</td>\n",
       "    </tr>\n",
       "    <tr>\n",
       "      <th>NYK</th>\n",
       "      <td>B</td>\n",
       "      <td>26.074128</td>\n",
       "      <td>3254.029902</td>\n",
       "    </tr>\n",
       "    <tr>\n",
       "      <th>SFO</th>\n",
       "      <td>A</td>\n",
       "      <td>35.589014</td>\n",
       "      <td>4624.959467</td>\n",
       "    </tr>\n",
       "  </tbody>\n",
       "</table>\n",
       "</div>"
      ],
      "text/plain": [
       "           Grade        Age       Salary\n",
       "Name State                              \n",
       "jack NYK       C  41.464529  4190.195263\n",
       "     SFO       C  47.458403  4765.495403\n",
       "jane CA        A  44.224668  4245.876314\n",
       "     NYK       B  26.074128  3254.029902\n",
       "     SFO       A  35.589014  4624.959467"
      ]
     },
     "execution_count": 95,
     "metadata": {},
     "output_type": "execute_result"
    }
   ],
   "source": [
    "# Find max age and salary by Name / State\n",
    "# with groupby, we can use all aggregate functions such as min, max, mean, count, cumsum\n",
    "df.groupby(['Name','State']).max()"
   ]
  },
  {
   "cell_type": "markdown",
   "id": "186eb994-07cb-4925-8c8f-271df97bc743",
   "metadata": {},
   "source": [
    "**Pivot Tables**\n",
    "\n",
    "Pandas provides a function ‘pivot_table’ to create MS-Excel spreadsheet style pivot tables.\n",
    "It can take following arguments:\n",
    "• data: DataFrame object,\n",
    "• values: column to aggregate,\n",
    "• index: row labels,\n",
    "• columns: column labels,\n",
    "• aggfunc: aggregation function to be used on values, default is\n",
    "NumPy.mean (see Listing 2-30).\n",
    "\n",
    "Listing 2-30. Pivot tables"
   ]
  },
  {
   "cell_type": "code",
   "execution_count": 97,
   "id": "f829eb81-7a08-4b3c-84bb-adacbee69fa2",
   "metadata": {},
   "outputs": [
    {
     "data": {
      "text/html": [
       "<div>\n",
       "<style scoped>\n",
       "    .dataframe tbody tr th:only-of-type {\n",
       "        vertical-align: middle;\n",
       "    }\n",
       "\n",
       "    .dataframe tbody tr th {\n",
       "        vertical-align: top;\n",
       "    }\n",
       "\n",
       "    .dataframe thead th {\n",
       "        text-align: right;\n",
       "    }\n",
       "</style>\n",
       "<table border=\"1\" class=\"dataframe\">\n",
       "  <thead>\n",
       "    <tr style=\"text-align: right;\">\n",
       "      <th></th>\n",
       "      <th>Grade</th>\n",
       "      <th>A</th>\n",
       "      <th>B</th>\n",
       "      <th>C</th>\n",
       "    </tr>\n",
       "    <tr>\n",
       "      <th>State</th>\n",
       "      <th>Name</th>\n",
       "      <th></th>\n",
       "      <th></th>\n",
       "      <th></th>\n",
       "    </tr>\n",
       "  </thead>\n",
       "  <tbody>\n",
       "    <tr>\n",
       "      <th>CA</th>\n",
       "      <th>jane</th>\n",
       "      <td>43.682357</td>\n",
       "      <td>NaN</td>\n",
       "      <td>NaN</td>\n",
       "    </tr>\n",
       "    <tr>\n",
       "      <th rowspan=\"2\" valign=\"top\">NYK</th>\n",
       "      <th>jack</th>\n",
       "      <td>NaN</td>\n",
       "      <td>34.704898</td>\n",
       "      <td>41.464529</td>\n",
       "    </tr>\n",
       "    <tr>\n",
       "      <th>jane</th>\n",
       "      <td>NaN</td>\n",
       "      <td>26.074128</td>\n",
       "      <td>NaN</td>\n",
       "    </tr>\n",
       "    <tr>\n",
       "      <th rowspan=\"2\" valign=\"top\">SFO</th>\n",
       "      <th>jack</th>\n",
       "      <td>36.477960</td>\n",
       "      <td>NaN</td>\n",
       "      <td>47.458403</td>\n",
       "    </tr>\n",
       "    <tr>\n",
       "      <th>jane</th>\n",
       "      <td>35.589014</td>\n",
       "      <td>NaN</td>\n",
       "      <td>NaN</td>\n",
       "    </tr>\n",
       "  </tbody>\n",
       "</table>\n",
       "</div>"
      ],
      "text/plain": [
       "Grade               A          B          C\n",
       "State Name                                 \n",
       "CA    jane  43.682357        NaN        NaN\n",
       "NYK   jack        NaN  34.704898  41.464529\n",
       "      jane        NaN  26.074128        NaN\n",
       "SFO   jack  36.477960        NaN  47.458403\n",
       "      jane  35.589014        NaN        NaN"
      ]
     },
     "execution_count": 97,
     "metadata": {},
     "output_type": "execute_result"
    }
   ],
   "source": [
    "# by state and name find mean age for each grade\n",
    "pd.pivot_table(df, values='Age', index=['State', 'Name'], columns=['Grade'])"
   ]
  },
  {
   "cell_type": "code",
   "execution_count": null,
   "id": "67b6a71e-e770-4bfe-90e9-a068a7159d7c",
   "metadata": {},
   "outputs": [],
   "source": []
  }
 ],
 "metadata": {
  "kernelspec": {
   "display_name": "Python [conda env:base] *",
   "language": "python",
   "name": "conda-base-py"
  },
  "language_info": {
   "codemirror_mode": {
    "name": "ipython",
    "version": 3
   },
   "file_extension": ".py",
   "mimetype": "text/x-python",
   "name": "python",
   "nbconvert_exporter": "python",
   "pygments_lexer": "ipython3",
   "version": "3.13.5"
  }
 },
 "nbformat": 4,
 "nbformat_minor": 5
}
